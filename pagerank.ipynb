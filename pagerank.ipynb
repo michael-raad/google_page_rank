{
 "cells": [
  {
   "cell_type": "markdown",
   "id": "6df591a5-428b-49fc-97fb-5aa043d7e5ee",
   "metadata": {},
   "source": [
    "# Implementing Google PageRank"
   ]
  },
  {
   "cell_type": "code",
   "execution_count": 10,
   "id": "c8cb3364-deec-4729-a3a2-5df83ad6807d",
   "metadata": {},
   "outputs": [],
   "source": [
    "import numpy as np\n",
    "import matplotlib.pyplot as plt\n",
    "from scipy.sparse import csr_matrix"
   ]
  },
  {
   "cell_type": "markdown",
   "id": "a313dc58",
   "metadata": {},
   "source": [
    "The Google probability matrix is as follows:\n",
    "\n",
    "$$M = \\alpha P' + (1 - \\alpha)\\frac{1}{R}ee^T$$\n",
    "\n",
    "Where $R$ is the number of web pages, $P' = P + \\frac{1}{R}ed^T$, and\n",
    "\n",
    "$$P_{ij} = \\begin{cases} \\frac{1}{\\deg(j)}, & \\text{if link }j \\rightarrow i\\text{ exists} \\\\ 0, & \\text{otherwise} \\end{cases}$$\n",
    "\n",
    "with\n",
    "\n",
    "$$d_i = \\begin{cases} 1, & \\text{if }\\deg(i) = 0 \\\\ 0, & \\text{otherwise} \\end{cases}$$\n",
    "\n",
    "and $1 - \\alpha$ is the probability we teleport to a random page in order to escape potential closed cycles"
   ]
  },
  {
   "cell_type": "code",
   "execution_count": 11,
   "id": "76442811-cc12-4880-b9f7-05ad851de1d6",
   "metadata": {},
   "outputs": [],
   "source": [
    "# PageRankDense takes in an adjacency matrix G and the \n",
    "#   random teleportation weight alpha, and returns \n",
    "#   [p, iterations], with p being the pagerank scores \n",
    "#   (the probability of landing on the web page) and \n",
    "#   iterations being the number of iterations for the \n",
    "#   computation to finish. \n",
    "def PageRankDense(G, alpha):\n",
    "    col_sums = np.sum(G, axis=0)\n",
    "    R = len(G)\n",
    "    P = np.divide(1, col_sums, where=col_sums != 0) * G\n",
    "    d = (col_sums == 0).astype(int)\n",
    "    e = np.ones(R)\n",
    "    P_prime = P + (1/R) * np.outer(e, d)\n",
    "    M = alpha * P_prime + (1 - alpha) *  (1 / R)\n",
    "\n",
    "    tol = 10**(-8)\n",
    "    p = e / R\n",
    "    p_prev = np.zeros(R)\n",
    "    iterations = 0\n",
    "    while iterations < 1 or np.max(np.abs(p - p_prev)) >= tol:\n",
    "        p_prev = p\n",
    "        p = M @ p_prev\n",
    "        iterations += 1\n",
    "    \n",
    "    return p, iterations"
   ]
  },
  {
   "cell_type": "markdown",
   "id": "c5b29787-67ca-4868-8868-10671f1ed272",
   "metadata": {},
   "source": [
    "Consider this directed graph representing a set of 14 web pages and the links from one web page to another"
   ]
  },
  {
   "cell_type": "markdown",
   "id": "ceb9e1af",
   "metadata": {},
   "source": [
    "![Web Pages](web_pages.png)"
   ]
  },
  {
   "cell_type": "markdown",
   "id": "15201c12",
   "metadata": {},
   "source": [
    "Let's encode this information in an adjacency matrix G and run the Google page rank algorithm on it"
   ]
  },
  {
   "cell_type": "code",
   "execution_count": 12,
   "id": "764c334a-7459-4d3e-9c08-c0ea5bba59e8",
   "metadata": {},
   "outputs": [
    {
     "name": "stdout",
     "output_type": "stream",
     "text": [
      "The final pagerank scores are\n",
      "[0.03885066 0.03993066 0.07381624 0.06248823 0.03288854 0.04002228\n",
      " 0.063496   0.09892555 0.10291725 0.06380141 0.02088186 0.2137178\n",
      " 0.11537497 0.03288854]\n",
      "The list of nodes in decending order of importance are\n",
      "[12 13  9  8  3 10  7  4  6  2  1 14  5 11]\n",
      "The number of iterations is 22\n"
     ]
    },
    {
     "data": {
      "image/png": "[encoded data removed]",
      "text/plain": [
       "<Figure size 576x432 with 1 Axes>"
      ]
     },
     "metadata": {
      "needs_background": "light"
     },
     "output_type": "display_data"
    },
    {
     "data": {
      "image/png": "[encoded data removed]",
      "text/plain": [
       "<Figure size 576x432 with 1 Axes>"
      ]
     },
     "metadata": {
      "needs_background": "light"
     },
     "output_type": "display_data"
    }
   ],
   "source": [
    "G = np.array([[0, 1, 0, 0, 0, 0, 0, 0, 0, 0, 0, 0, 0, 0],\n",
    "              [0, 0, 0, 0, 0, 0, 1, 0, 0, 0, 0, 0, 0, 0],\n",
    "              [1, 1, 0, 0, 0, 0, 0, 0, 0, 0, 0, 0, 0, 0],\n",
    "              [0, 0, 0, 0, 1, 1, 0, 0, 0, 0, 0, 0, 0, 0],\n",
    "              [0, 0, 0, 0, 0, 1, 0, 0, 0, 0, 0, 0, 0, 0],\n",
    "              [0, 0, 0, 0, 0, 0, 0, 0, 0, 1, 0, 0, 0, 0],\n",
    "              [0, 0, 1, 0, 0, 0, 0, 0, 0, 0, 1, 0, 0, 0],\n",
    "              [0, 0, 0, 1, 0, 0, 1, 0, 1, 0, 0, 0, 0, 0],\n",
    "              [0, 0, 1, 0, 0, 0, 0, 1, 0, 1, 0, 0, 0, 0],\n",
    "              [0, 0, 0, 1, 0, 0, 0, 0, 0, 0, 0, 0, 0, 1],\n",
    "              [0, 0, 0, 0, 0, 0, 0, 0, 0, 0, 0, 0, 0, 0],\n",
    "              [0, 0, 0, 0, 0, 0, 1, 1, 1, 0, 1, 0, 1, 0],\n",
    "              [0, 0, 0, 0, 0, 0, 0, 1 ,1, 1, 0, 0, 0, 1],\n",
    "              [0, 0, 0, 0, 0, 1, 0, 0, 0, 0, 0, 0, 0, 0]])\n",
    "\n",
    "solution_1 = PageRankDense(G, 0.9)\n",
    "p_1 = solution_1[0]\n",
    "node_rankings = np.argsort(p_1)[::-1] + 1\n",
    "print(\"The final pagerank scores are\")\n",
    "print(p_1)\n",
    "print(\"The list of nodes in decending order of importance are\")\n",
    "print(node_rankings)\n",
    "print(\"The number of iterations is\", solution_1[1])\n",
    "\n",
    "plt.figure(figsize=(8, 6))\n",
    "plt.spy(G)\n",
    "plt.xlabel('Columns')\n",
    "plt.ylabel('Rows')\n",
    "plt.title('Sparsity of Adjacency Matrix')\n",
    "plt.show()\n",
    "\n",
    "plt.figure(figsize=(8, 6))\n",
    "plt.bar(range(1, len(p_1) + 1), p_1)\n",
    "plt.xlabel('Nodes')\n",
    "plt.ylabel('PageRank')\n",
    "plt.title('PageRank Scores')\n",
    "plt.show()"
   ]
  },
  {
   "cell_type": "markdown",
   "id": "6c4d306b-9443-4912-b395-2ef5bac757c9",
   "metadata": {},
   "source": [
    "In order to efficiently handle larger network graphs, we will use the fact that multiplying vectors with sparce matricies can be done efficiently. We can rewrite the Google page rank algorithm as\n",
    "\n",
    "$$Mp^n = \\underbrace{\\alpha Pp^n}_{(1)} + \\underbrace{\\frac{\\alpha}{R}ed^Tp^n}_{(2)} + \\underbrace{\\frac{(1-\\alpha)}{R}ee^Tp^n}_{(3)}$$\n",
    "\n",
    "- $(1)$ Is a sparse matrix-vector multiplication and can be done efficiently\n",
    "- $(2)$ $d^Tp^n$ is just a scalar, so this is easy\n",
    "- $(3)$ Since $e^Tp^n = 1$ then this is just $\\frac{(1-\\alpha)}{R}e$"
   ]
  },
  {
   "cell_type": "code",
   "execution_count": 17,
   "id": "93aa373d-3d52-4063-9137-ed4f16fa449a",
   "metadata": {},
   "outputs": [],
   "source": [
    "# PageRankSparse takes in a sparce adjacency matrix Gcsr, the \n",
    "#   random teleportation weight alpha, and returns \n",
    "#   [p, iterations], with p being the pagerank scores \n",
    "#   (the probability of landing on the web page) and \n",
    "#   iterations being the number of iterations for the \n",
    "#   computation to finish. \n",
    "def PageRankSparse(Gcsr, alpha):\n",
    "    col_sums = np.array(Gcsr.sum(axis=0)).flatten()\n",
    "    R = Gcsr.shape[0]\n",
    "    P = Gcsr.multiply(np.divide(1, col_sums, where=col_sums != 0))\n",
    "    d = (col_sums == 0).astype(int)\n",
    "    e = np.ones(R)\n",
    "    \n",
    "    tol = 10**(-8)\n",
    "    p = e / R\n",
    "    p_prev = np.zeros(R)\n",
    "    iterations = 0\n",
    "    while iterations < 1 or np.max(np.abs(p - p_prev)) >= tol:\n",
    "        p_prev = p\n",
    "        p = alpha * P.dot(p_prev) + (alpha * (d.dot(p_prev)))/R + (1 - alpha)/R\n",
    "        iterations += 1\n",
    "    \n",
    "    return p, iterations"
   ]
  },
  {
   "cell_type": "code",
   "execution_count": 21,
   "id": "cbad2730-1c1a-4fc1-8ccd-4150035e500f",
   "metadata": {},
   "outputs": [
    {
     "name": "stdout",
     "output_type": "stream",
     "text": [
      "Dense solution:\n",
      "(array([0.03885066, 0.03993066, 0.07381624, 0.06248823, 0.03288854,\n",
      "       0.04002228, 0.063496  , 0.09892555, 0.10291725, 0.06380141,\n",
      "       0.02088186, 0.2137178 , 0.11537497, 0.03288854]), 22)\n",
      "Sparse solution:\n",
      "(array([0.03885066, 0.03993066, 0.07381624, 0.06248823, 0.03288854,\n",
      "       0.04002228, 0.063496  , 0.09892555, 0.10291725, 0.06380141,\n",
      "       0.02088186, 0.2137178 , 0.11537497, 0.03288854]), 22)\n"
     ]
    }
   ],
   "source": [
    "Gcsr_1 = csr_matrix(G)\n",
    "solution_2 = PageRankSparse(Gcsr_1, 0.9)\n",
    "print(\"Dense solution:\")\n",
    "print(solution_1)\n",
    "print(\"Sparse solution:\")\n",
    "print(solution_2)"
   ]
  },
  {
   "cell_type": "markdown",
   "id": "59d079a9",
   "metadata": {},
   "source": [
    "As expected, the sparse and dense solutions are identical. The only difference in the algorithms should be the efficiency, not the result.\n",
    "\n",
    "Let's test the efficient pagerank implementation on the internet graph data in the file bbc.mat. "
   ]
  },
  {
   "cell_type": "code",
   "execution_count": 22,
   "id": "6fa58111-2252-4500-ac49-ce5ca32e6278",
   "metadata": {},
   "outputs": [
    {
     "data": {
      "image/png": "[encoded data removed]",
      "text/plain": [
       "<Figure size 576x432 with 1 Axes>"
      ]
     },
     "metadata": {
      "needs_background": "light"
     },
     "output_type": "display_data"
    }
   ],
   "source": [
    "import scipy.io\n",
    "data = scipy.io.loadmat('bbc.mat')\n",
    "Gcsr_2 = data['G']\n",
    "Gcsr_2 = Gcsr_2.transpose() # data uses the reverse adjacency matrix convention.\n",
    "U = data['U']\n",
    "\n",
    "plt.figure(figsize=(8, 6))\n",
    "plt.spy(Gcsr_2, markersize=1)\n",
    "plt.xlabel('Columns')\n",
    "plt.ylabel('Rows')\n",
    "plt.title('Sparsity of Adjacency Matrix')\n",
    "plt.show()"
   ]
  },
  {
   "cell_type": "code",
   "execution_count": 24,
   "id": "e888b642-8ef0-4803-8226-8893f22fdcdf",
   "metadata": {},
   "outputs": [
    {
     "name": "stdout",
     "output_type": "stream",
     "text": [
      "1. http://www.bbc.com\n",
      "2. https://www.bbc.com/news\n",
      "3. https://www.bbc.co.uk/news\n",
      "4. http://www.bbcamerica.com\n",
      "5. http://www.bbc.com/future/story/20181024-the-best-age-to-learn-a-foreign-language\n",
      "6. http://www.bbc.com/future/story/20181026-how-one-sided-objects-like-a-mobius-strip-work\n",
      "7. https://www.bbcgoodfood.com\n",
      "8. https://www.bbc.com/news/business-45939984\n",
      "9. https://www.bbc.com/news/education-45979234\n",
      "10. https://www.bbc.com/news/uk-politics-45948282\n",
      "11. https://www.bbc.com/news/business-45961761\n",
      "12. http://www.bbc.com/travel/columns/travel-journeys\n",
      "13. http://bbc.in/2s4bidh\n",
      "14. http://www.bbc.com/travel\n",
      "15. http://www.bbc.com/travel/columns/to-the-ends-of-the-earth\n",
      "16. http://www.bbc.com/travel/columns/welcome-to-our-house\n",
      "17. http://www.bbc.com/travel/columns/culinary-roots\n",
      "18. http://bbc.in/2rAX81O\n",
      "19. https://www.bbc.com/news/world-latin-america-45944164\n",
      "20. https://www.bbc.com/news/world-europe-45902014\n"
     ]
    }
   ],
   "source": [
    "solution_bbc = PageRankSparse(Gcsr_2, 0.9)\n",
    "p_bbc = solution_bbc[0]\n",
    "top_website_indices = (np.argsort(p_bbc)[::-1])[:20]\n",
    "\n",
    "for i in range(len(top_website_indices)):\n",
    "    print(str(i + 1) + \". \" + U[top_website_indices[i]][0][0])\n",
    "    "
   ]
  }
 ],
 "metadata": {
  "kernelspec": {
   "display_name": "Python 3 (ipykernel)",
   "language": "python",
   "name": "python3"
  },
  "language_info": {
   "codemirror_mode": {
    "name": "ipython",
    "version": 3
   },
   "file_extension": ".py",
   "mimetype": "text/x-python",
   "name": "python",
   "nbconvert_exporter": "python",
   "pygments_lexer": "ipython3",
   "version": "3.10.12"
  }
 },
 "nbformat": 4,
 "nbformat_minor": 5
}
